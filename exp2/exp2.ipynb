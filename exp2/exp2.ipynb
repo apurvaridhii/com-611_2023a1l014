{
 "cells": [
  {
   "cell_type": "code",
   "execution_count": 12,
   "id": "af3fb269-fd35-4bc2-b561-15b607eb6da9",
   "metadata": {},
   "outputs": [],
   "source": [
    "import numpy as np\n",
    "import pandas as pd"
   ]
  },
  {
   "cell_type": "code",
   "execution_count": 13,
   "id": "33e39b8f-d207-4914-a730-7df71a32846f",
   "metadata": {},
   "outputs": [
    {
     "name": "stdout",
     "output_type": "stream",
     "text": [
      "     Sky AirTemp Humidity    Wind Water Forecast EnjoySport\n",
      "0  Sunny    Warm   Normal  Strong  Warm     Same        Yes\n",
      "1  Sunny    Warm     High  Strong  Warm     Same        Yes\n",
      "2  Rainy    Cold     High  Strong  Warm   Change         No\n",
      "3  Sunny    Warm     High  Strong  Cool   Change        Yes\n"
     ]
    }
   ],
   "source": [
    "#loading data from a CSV file\n",
    "data=pd.DataFrame(data=pd.read_csv('exp1.csv'))\n",
    "print(data)"
   ]
  },
  {
   "cell_type": "code",
   "execution_count": 14,
   "id": "6b1a7e0b-93c9-4389-9cba-7512b0925191",
   "metadata": {},
   "outputs": [
    {
     "name": "stdout",
     "output_type": "stream",
     "text": [
      "[['Sunny' 'Warm' 'Normal' 'Strong' 'Warm' 'Same']\n",
      " ['Sunny' 'Warm' 'High' 'Strong' 'Warm' 'Same']\n",
      " ['Rainy' 'Cold' 'High' 'Strong' 'Warm' 'Change']\n",
      " ['Sunny' 'Warm' 'High' 'Strong' 'Cool' 'Change']]\n"
     ]
    }
   ],
   "source": [
    "#Separating concept feature from Target\n",
    "concepts=np.array(data.iloc[:,0:-1])\n",
    "print(concepts)"
   ]
  },
  {
   "cell_type": "code",
   "execution_count": 15,
   "id": "1f8a95d5-2769-44f7-9b29-22e05b16e505",
   "metadata": {},
   "outputs": [
    {
     "name": "stdout",
     "output_type": "stream",
     "text": [
      "['Yes' 'Yes' 'No' 'Yes']\n"
     ]
    }
   ],
   "source": [
    "#initialise target into a separate DataFrame\n",
    "#coping lost column to target array\n",
    "target=np.array(data.iloc[:,-1])\n",
    "print(target)"
   ]
  },
  {
   "cell_type": "code",
   "execution_count": 16,
   "id": "c660a0ef-c5e3-4d4f-998d-bb55284ec8fe",
   "metadata": {},
   "outputs": [],
   "source": [
    "def learn(concepts,target):\n",
    "    '''\n",
    "    learn() function impliments the learning method of the candidate elimination algorithm.\n",
    "    Arguments:\n",
    "        concepts- a data frame with all the features\n",
    "        target- a data frame with corresponding outpit values\n",
    "    '''\n",
    "    #Initialize S0 with the first instance from concepts\\\n",
    "    #.copy() makes sure a new list is created instead of just pointing to the same memory location\n",
    "    specific_h = concepts[0].copy()\n",
    "    print(\"\\nInitialization of specific_h and general_h\")\n",
    "    print(specific_h)\n",
    "\n",
    "    general_h=[[\"?\" for i in range(len(specific_h))] for i in range(len(specific_h))]\n",
    "    print(general_h)\n",
    "    #The Learning Iterations\n",
    "    for i, h in enumerate(concepts):\n",
    "        #Checking if the hypothesis has a positive target\n",
    "        if target[i]==\"Yes\":\n",
    "            for x in range (len(specific_h)):\n",
    "\n",
    "                #Change value in S & G only if values change\n",
    "                if h[x] != specific_h[x]:\n",
    "                    specific_h[x]='?'\n",
    "                    general_h[x][x]='?'\n",
    "\n",
    "\n",
    "        #Checking if the hypothesis has a negative target\n",
    "        if target[i]==\"No\":\n",
    "            for x in range(len(specific_h)):\n",
    "                #for negative hypothesis change values only in 6\n",
    "                if h[x] != specific_h[x]:\n",
    "                    general_h[x][x]=specific_h[x]\n",
    "                else:\n",
    "                    general_h[x][x]='?'\n",
    "                    \n",
    "        print(\"\\nSteps of Elimination Algorithm\",i+1)\n",
    "        print(specific_h)\n",
    "        print(general_h)\n",
    "\n",
    "    #find indices where we have empty rows, meaning those that are unchanged \n",
    "    indices=[i for i, val in enumerate(general_h) if val ==['?','?','?','?','?','?']]\n",
    "    for i in indices:\n",
    "        #remove those rows from general_h\n",
    "        general_h.remove(['?','?','?','?','?','?'])\n",
    "    #Return final values\n",
    "    return specific_h,general_h"
   ]
  },
  {
   "cell_type": "code",
   "execution_count": 17,
   "id": "05a89d66-7c0a-4d3c-a6ee-67dc083afa02",
   "metadata": {},
   "outputs": [
    {
     "name": "stdout",
     "output_type": "stream",
     "text": [
      "\n",
      "Initialization of specific_h and general_h\n",
      "['Sunny' 'Warm' 'Normal' 'Strong' 'Warm' 'Same']\n",
      "[['?', '?', '?', '?', '?', '?'], ['?', '?', '?', '?', '?', '?'], ['?', '?', '?', '?', '?', '?'], ['?', '?', '?', '?', '?', '?'], ['?', '?', '?', '?', '?', '?'], ['?', '?', '?', '?', '?', '?']]\n",
      "\n",
      "Steps of Elimination Algorithm 1\n",
      "['Sunny' 'Warm' 'Normal' 'Strong' 'Warm' 'Same']\n",
      "[['?', '?', '?', '?', '?', '?'], ['?', '?', '?', '?', '?', '?'], ['?', '?', '?', '?', '?', '?'], ['?', '?', '?', '?', '?', '?'], ['?', '?', '?', '?', '?', '?'], ['?', '?', '?', '?', '?', '?']]\n",
      "\n",
      "Steps of Elimination Algorithm 2\n",
      "['Sunny' 'Warm' '?' 'Strong' 'Warm' 'Same']\n",
      "[['?', '?', '?', '?', '?', '?'], ['?', '?', '?', '?', '?', '?'], ['?', '?', '?', '?', '?', '?'], ['?', '?', '?', '?', '?', '?'], ['?', '?', '?', '?', '?', '?'], ['?', '?', '?', '?', '?', '?']]\n",
      "\n",
      "Steps of Elimination Algorithm 3\n",
      "['Sunny' 'Warm' '?' 'Strong' 'Warm' 'Same']\n",
      "[['Sunny', '?', '?', '?', '?', '?'], ['?', 'Warm', '?', '?', '?', '?'], ['?', '?', '?', '?', '?', '?'], ['?', '?', '?', '?', '?', '?'], ['?', '?', '?', '?', '?', '?'], ['?', '?', '?', '?', '?', 'Same']]\n",
      "\n",
      "Steps of Elimination Algorithm 4\n",
      "['Sunny' 'Warm' '?' 'Strong' '?' '?']\n",
      "[['Sunny', '?', '?', '?', '?', '?'], ['?', 'Warm', '?', '?', '?', '?'], ['?', '?', '?', '?', '?', '?'], ['?', '?', '?', '?', '?', '?'], ['?', '?', '?', '?', '?', '?'], ['?', '?', '?', '?', '?', '?']]\n",
      "\n",
      " Final Specific_h:\n",
      "['Sunny' 'Warm' '?' 'Strong' '?' '?']\n",
      "\n",
      " Final General_h:\n",
      "[['Sunny', '?', '?', '?', '?', '?'], ['?', 'Warm', '?', '?', '?', '?']]\n"
     ]
    }
   ],
   "source": [
    "s_final, g_final = learn(concepts, target)\n",
    "print(\"\\n Final Specific_h:\", s_final, sep=\"\\n\")\n",
    "print(\"\\n Final General_h:\", g_final, sep=\"\\n\") "
   ]
  },
  {
   "cell_type": "code",
   "execution_count": null,
   "id": "a00aed35-2414-4bf6-8d5c-77fb57401d36",
   "metadata": {},
   "outputs": [],
   "source": []
  },
  {
   "cell_type": "code",
   "execution_count": null,
   "id": "c8c1dce8-c94b-4847-8fe0-442e947d8744",
   "metadata": {},
   "outputs": [],
   "source": []
  },
  {
   "cell_type": "code",
   "execution_count": null,
   "id": "b2cc77ba-f4ab-4e2c-9368-5f8baaf8155e",
   "metadata": {},
   "outputs": [],
   "source": []
  },
  {
   "cell_type": "code",
   "execution_count": null,
   "id": "11be36cb-cea7-4369-a1b9-873b700b1193",
   "metadata": {},
   "outputs": [],
   "source": []
  },
  {
   "cell_type": "code",
   "execution_count": null,
   "id": "b0dfb2c0-83be-4c56-8794-f06c634a8a65",
   "metadata": {},
   "outputs": [],
   "source": []
  },
  {
   "cell_type": "code",
   "execution_count": null,
   "id": "c7eab6e2-20ab-4b27-95ab-1838eec7e4b1",
   "metadata": {},
   "outputs": [],
   "source": []
  },
  {
   "cell_type": "code",
   "execution_count": null,
   "id": "202d5873-53a4-4321-978e-ccd6baafb66c",
   "metadata": {},
   "outputs": [],
   "source": []
  },
  {
   "cell_type": "code",
   "execution_count": null,
   "id": "b80d24a2-f786-4e96-ae92-fdb0c49ef8cd",
   "metadata": {},
   "outputs": [],
   "source": []
  },
  {
   "cell_type": "code",
   "execution_count": null,
   "id": "ede7a464-1d81-4a3d-ae09-3e901f7110c8",
   "metadata": {},
   "outputs": [],
   "source": []
  },
  {
   "cell_type": "code",
   "execution_count": null,
   "id": "7500d20d-fb13-49e3-9380-e49ec2d81788",
   "metadata": {},
   "outputs": [],
   "source": []
  },
  {
   "cell_type": "code",
   "execution_count": null,
   "id": "673e3ae5-56e3-414d-8a65-830c45e90a1f",
   "metadata": {},
   "outputs": [],
   "source": []
  },
  {
   "cell_type": "code",
   "execution_count": null,
   "id": "6bd23dc3-5b97-466c-9240-d12a70cec6fb",
   "metadata": {},
   "outputs": [],
   "source": []
  },
  {
   "cell_type": "code",
   "execution_count": null,
   "id": "c1d87b5a-8058-43e2-bab8-550f9e28c328",
   "metadata": {},
   "outputs": [],
   "source": []
  },
  {
   "cell_type": "code",
   "execution_count": null,
   "id": "58aee3b4-3fe5-4b45-b1f1-1083891269c1",
   "metadata": {},
   "outputs": [],
   "source": []
  },
  {
   "cell_type": "code",
   "execution_count": null,
   "id": "cdf0738b-794d-400a-87b9-85110122f3be",
   "metadata": {},
   "outputs": [],
   "source": []
  },
  {
   "cell_type": "code",
   "execution_count": null,
   "id": "9a09f782-72b3-4817-afee-3b018c117f75",
   "metadata": {},
   "outputs": [],
   "source": []
  }
 ],
 "metadata": {
  "kernelspec": {
   "display_name": "Python 3 (ipykernel)",
   "language": "python",
   "name": "python3"
  },
  "language_info": {
   "codemirror_mode": {
    "name": "ipython",
    "version": 3
   },
   "file_extension": ".py",
   "mimetype": "text/x-python",
   "name": "python",
   "nbconvert_exporter": "python",
   "pygments_lexer": "ipython3",
   "version": "3.12.4"
  }
 },
 "nbformat": 4,
 "nbformat_minor": 5
}
